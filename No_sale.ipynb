{
  "cells": [
    {
      "cell_type": "markdown",
      "metadata": {
        "id": "view-in-github",
        "colab_type": "text"
      },
      "source": [
        "<a href=\"https://colab.research.google.com/github/Omarhersan/Project_imagenet/blob/Omar/No_sale.ipynb\" target=\"_parent\"><img src=\"https://colab.research.google.com/assets/colab-badge.svg\" alt=\"Open In Colab\"/></a>"
      ]
    },
    {
      "cell_type": "code",
      "source": [
        "from google.colab import drive\n",
        "drive.mount('/content/drive')"
      ],
      "metadata": {
        "colab": {
          "base_uri": "https://localhost:8080/"
        },
        "id": "fB_vztD-uol8",
        "outputId": "9089a265-1bd1-477f-f7d3-d6954a9f939f"
      },
      "execution_count": 1,
      "outputs": [
        {
          "output_type": "stream",
          "name": "stdout",
          "text": [
            "Mounted at /content/drive\n"
          ]
        }
      ]
    },
    {
      "cell_type": "code",
      "execution_count": 2,
      "metadata": {
        "id": "ScK6bf53WFhH"
      },
      "outputs": [],
      "source": [
        "import os \n",
        "import pandas as pd\n",
        "import cv2 as cv2\n",
        "import matplotlib.pyplot as plt\n",
        "\n",
        "image_path = '/content/drive/MyDrive/Deep learning/Proyecto_1/tiny-imagenet-200'\n",
        "#image_path = './tiny-imagenet-200'"
      ]
    },
    {
      "cell_type": "code",
      "execution_count": 3,
      "metadata": {
        "id": "mBeWUeAHDMok"
      },
      "outputs": [],
      "source": [
        "def read_file(file_path):\n",
        "    \"\"\"\n",
        "    Reads a .txt file where each row is identified by the fourth separator '\\t'.\n",
        "    \n",
        "    Parameters:\n",
        "    file_path (str): The path to the .txt file.\n",
        "    \n",
        "    Returns:\n",
        "    list: A list of lists where each inner list represents a row of the .txt file.\n",
        "    \"\"\"\n",
        "    rows = []\n",
        "    with open(file_path, 'r') as file:\n",
        "        for line in file:\n",
        "            # Remove the '\\n' character from the end of the line\n",
        "            line = line.rstrip('\\n')\n",
        "            # Split each line by '\\t' delimiter\n",
        "            row = line.split('\\t')\n",
        "            #row = row[1:]\n",
        "            rows.append(row)\n",
        "    return rows"
      ]
    },
    {
      "cell_type": "code",
      "execution_count": 4,
      "metadata": {
        "colab": {
          "base_uri": "https://localhost:8080/",
          "height": 449
        },
        "id": "8-UT4XeLAm2i",
        "outputId": "71c30ade-793d-465f-cfdd-9eeb8c117185"
      },
      "outputs": [
        {
          "output_type": "execute_result",
          "data": {
            "text/plain": [
              "<matplotlib.image.AxesImage at 0x7f9658c61cd0>"
            ]
          },
          "metadata": {},
          "execution_count": 4
        },
        {
          "output_type": "display_data",
          "data": {
            "text/plain": [
              "<Figure size 640x480 with 1 Axes>"
            ],
            "image/png": "[encoded data removed]"
          },
          "metadata": {}
        }
      ],
      "source": [
        "una_imagen = cv2.imread(os.path.join(image_path, 'train/n01443537/images/n01443537_0.JPEG'))\n",
        "plt.imshow(una_imagen)"
      ]
    },
    {
      "cell_type": "code",
      "execution_count": 5,
      "metadata": {
        "colab": {
          "base_uri": "https://localhost:8080/"
        },
        "id": "3U6ldoDHC6Xg",
        "outputId": "a3398da2-e364-408a-b491-bae071af0072"
      },
      "outputs": [
        {
          "output_type": "execute_result",
          "data": {
            "text/plain": [
              "['n01443537_0.JPEG', '0', '10', '63', '58']"
            ]
          },
          "metadata": {},
          "execution_count": 5
        }
      ],
      "source": [
        "una_bbox = read_file(os.path.join(image_path, 'train/n01443537/n01443537_boxes.txt'))\n",
        "una_bbox[0]"
      ]
    },
    {
      "cell_type": "code",
      "execution_count": 6,
      "metadata": {
        "id": "ALwdt8JyGBK3"
      },
      "outputs": [],
      "source": [
        "def draw_bbox_on_image(image, bbox):\n",
        "    \"\"\"\n",
        "    Draws a bounding box on an image using the provided coordinates.\n",
        "    \n",
        "    Parameters:\n",
        "    image (numpy.ndarray): The image to draw the bounding box on.\n",
        "    bbox (list): A list of four integers representing the bounding box coordinates in the format [x_min, y_min, x_max, y_max].\n",
        "    \n",
        "    Returns:\n",
        "    numpy.ndarray: The image with the bounding box drawn on it.\n",
        "    \"\"\"\n",
        "    # Convert bbox coordinates to integers\n",
        "    bbox = [int(coord) for coord in bbox]\n",
        "    # Draw the bounding box on the image\n",
        "    image_with_bbox = cv2.rectangle(image, (bbox[0], bbox[1]), (bbox[2], bbox[3]), (255, 0, 0), 2)\n",
        "    return image_with_bbox"
      ]
    },
    {
      "cell_type": "code",
      "execution_count": 7,
      "metadata": {
        "colab": {
          "base_uri": "https://localhost:8080/",
          "height": 449
        },
        "id": "wZjyPwvWJRXN",
        "outputId": "78450f43-bada-4112-f3b8-fac0a6d12980"
      },
      "outputs": [
        {
          "output_type": "execute_result",
          "data": {
            "text/plain": [
              "<matplotlib.image.AxesImage at 0x7f96562df340>"
            ]
          },
          "metadata": {},
          "execution_count": 7
        },
        {
          "output_type": "display_data",
          "data": {
            "text/plain": [
              "<Figure size 640x480 with 1 Axes>"
            ],
            "image/png": "[encoded data removed]"
          },
          "metadata": {}
        }
      ],
      "source": [
        "plt.imshow(draw_bbox_on_image(una_imagen, una_bbox[0][1:]))"
      ]
    },
    {
      "cell_type": "markdown",
      "metadata": {
        "id": "wwfvA9xJullU"
      },
      "source": [
        "# Using Class for Data Generation"
      ]
    },
    {
      "cell_type": "code",
      "execution_count": 9,
      "metadata": {
        "id": "rNHN6Z7CullV"
      },
      "outputs": [],
      "source": [
        "from utils import DataPreparator"
      ]
    },
    {
      "cell_type": "code",
      "execution_count": null,
      "metadata": {
        "id": "jQoRqJZpullV"
      },
      "outputs": [],
      "source": [
        "data = DataPreparator('/content/drive/MyDrive/Deep learning/Proyecto_1/tiny-imagenet-200/train/', \n",
        "                      '/content/drive/MyDrive/Deep learning/Proyecto_1/tiny-imagenet-200/val/',\n",
        "                      '/content/drive/MyDrive/Deep learning/Proyecto_1/tiny-imagenet-200/train/')\n",
        "train_data, val_data, test_data = data.returnData()"
      ]
    },
    {
      "cell_type": "code",
      "execution_count": null,
      "metadata": {
        "id": "sKo6MJN_ullW"
      },
      "outputs": [],
      "source": [
        "train_data"
      ]
    },
    {
      "cell_type": "code",
      "execution_count": null,
      "metadata": {
        "id": "xe1M-RXKullW"
      },
      "outputs": [],
      "source": [
        "val_data"
      ]
    },
    {
      "cell_type": "code",
      "execution_count": null,
      "metadata": {
        "id": "ty0azLGWullX"
      },
      "outputs": [],
      "source": [
        "test_data"
      ]
    },
    {
      "cell_type": "code",
      "execution_count": null,
      "metadata": {
        "id": "q5uwOVMHullY"
      },
      "outputs": [],
      "source": [
        "#TODO: Queda pendiente hacer lo de las metricas y el modelo, ya esta lista la generación de los tensores para los datasets"
      ]
    },
    {
      "cell_type": "code",
      "source": [
        "from keras.applications import VGG16, ResNet50, VGG19, NASNetLarge, ConvNeXtBase\n",
        "from tensorflow.keras.layers import Input, Dense, Flatten, Dropout"
      ],
      "metadata": {
        "id": "hBq0s9Y9w30R"
      },
      "execution_count": null,
      "outputs": []
    },
    {
      "cell_type": "code",
      "source": [
        "# Implementación del primer modelo\n",
        "\n",
        "\n",
        "vgg16 = VGG16(include_top= False, input_tensor= Input(shape = (50,50, 3)))\n",
        "vgg16.trainable = True\n",
        "ouput_vgg16 = vgg16.output"
      ],
      "metadata": {
        "id": "rz8M_CxuzBm8"
      },
      "execution_count": null,
      "outputs": []
    },
    {
      "cell_type": "code",
      "source": [
        "# Perceptrón con doble salida\n",
        "\n",
        "x = Flatten()(ouput_vgg16)\n",
        "x = Dense(3200, activation = 'relu')(x)\n",
        "x = Dense(2400, activation = 'relu')(x)\n",
        "x = Dense(1000, activation = 'relu')(x)\n",
        "output_tensor_classification = Dense(200)(x)\n",
        "output_tensor_regression = Dense(4)(x)"
      ],
      "metadata": {
        "id": "ZY4HmuNG3H0-"
      },
      "execution_count": null,
      "outputs": []
    },
    {
      "cell_type": "code",
      "source": [
        "from tensorflow.keras.models import Model"
      ],
      "metadata": {
        "id": "eYO_vpk74Zdn"
      },
      "execution_count": null,
      "outputs": []
    },
    {
      "cell_type": "code",
      "source": [
        "model = Model(inputs = vgg16, outputs = [output_tensor_classification, output_tensor_regression])"
      ],
      "metadata": {
        "id": "1nbSYQfW-jQj"
      },
      "execution_count": null,
      "outputs": []
    },
    {
      "cell_type": "code",
      "source": [
        "model.compile(optimizer = 'adam', loss = ['mae'], metrics = ['accuracy'], learning_rate = 0.1)"
      ],
      "metadata": {
        "id": "GcmzH_1N--Dh"
      },
      "execution_count": null,
      "outputs": []
    },
    {
      "cell_type": "code",
      "source": [
        "model.fit(train_data, validation_data = val_data, epochs = 100)"
      ],
      "metadata": {
        "id": "_Kfev6av_IJE"
      },
      "execution_count": null,
      "outputs": []
    },
    {
      "cell_type": "code",
      "source": [],
      "metadata": {
        "id": "dA0pHznl_imS"
      },
      "execution_count": null,
      "outputs": []
    }
  ],
  "metadata": {
    "colab": {
      "provenance": [],
      "include_colab_link": true
    },
    "kernelspec": {
      "display_name": "Python 3",
      "name": "python3"
    },
    "language_info": {
      "codemirror_mode": {
        "name": "ipython",
        "version": 3
      },
      "file_extension": ".py",
      "mimetype": "text/x-python",
      "name": "python",
      "nbconvert_exporter": "python",
      "pygments_lexer": "ipython3",
      "version": "3.10.4"
    },
    "accelerator": "GPU",
    "gpuClass": "standard"
  },
  "nbformat": 4,
  "nbformat_minor": 0
}